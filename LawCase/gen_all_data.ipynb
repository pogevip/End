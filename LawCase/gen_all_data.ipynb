{
 "cells": [
  {
   "cell_type": "code",
   "execution_count": null,
   "metadata": {},
   "outputs": [],
   "source": [
    "from PrepareData.get_all_data import AllInfo"
   ]
  },
  {
   "cell_type": "code",
   "execution_count": null,
   "metadata": {},
   "outputs": [],
   "source": [
    "all_info = AllInfo()"
   ]
  },
  {
   "cell_type": "code",
   "execution_count": null,
   "metadata": {},
   "outputs": [],
   "source": [
    "all_info.gen_all_data_to_db2()"
   ]
  },
  {
   "cell_type": "code",
   "execution_count": null,
   "metadata": {},
   "outputs": [],
   "source": [
    "# all_info.gen_all_info_csv('all_info.csv')"
   ]
  },
  {
   "cell_type": "code",
   "execution_count": null,
   "metadata": {},
   "outputs": [],
   "source": []
  },
  {
   "cell_type": "code",
   "execution_count": null,
   "metadata": {},
   "outputs": [],
   "source": []
  },
  {
   "cell_type": "code",
   "execution_count": null,
   "metadata": {},
   "outputs": [],
   "source": []
  },
  {
   "cell_type": "code",
   "execution_count": null,
   "metadata": {},
   "outputs": [],
   "source": [
    "from pymongo import MongoClient\n",
    "conn = MongoClient('172.19.241.248', 20000)\n",
    "\n",
    "col = conn['wangxiao']['alldata_final']"
   ]
  },
  {
   "cell_type": "code",
   "execution_count": null,
   "metadata": {},
   "outputs": [],
   "source": [
    "stop_flags = ['b', 'c', 'e', 'g', 'h', 'k', 'l', 'o', 's', 'u', 'w', 'x', 'y', 'z', 'un', 'nr', 'ns',\n",
    "              'f', 'i', 'm', 'p', 'q', 'r', 'tg', 't']"
   ]
  },
  {
   "cell_type": "code",
   "execution_count": null,
   "metadata": {},
   "outputs": [],
   "source": [
    "res = []\n",
    "\n",
    "index = 0\n",
    "demo = col.find(no_cursor_timeout = True)\n",
    "for item in demo:    \n",
    "    try:\n",
    "        token = item['token']\n",
    "        token = [x.split('/') for x in token.split(' ')]\n",
    "        token = filter(lambda x:x[1] not in stop_flags, token)\n",
    "        token = [x[0] for x in token]\n",
    "    except:\n",
    "        continue\n",
    "\n",
    "    if len(token) >= 400:\n",
    "        continue\n",
    "    else:\n",
    "        res.append([item['fullTextId'], ' '.join(token), item['cls']])\n",
    "    \n",
    "    if index % 10000 == 0:\n",
    "        print(index)\n",
    "    index+=1\n",
    "\n",
    "demo.close()"
   ]
  },
  {
   "cell_type": "code",
   "execution_count": null,
   "metadata": {},
   "outputs": [],
   "source": [
    "import pandas as pd\n",
    "res = pd.DataFrame(res, columns=['id', 'token', 'cls'])\n",
    "res.dropna(how='any', inplace=True)\n",
    "res"
   ]
  },
  {
   "cell_type": "code",
   "execution_count": null,
   "metadata": {},
   "outputs": [],
   "source": [
    "res.to_csv('data/data.csv', index=0)"
   ]
  },
  {
   "cell_type": "code",
   "execution_count": null,
   "metadata": {},
   "outputs": [],
   "source": [
    "print(1)"
   ]
  },
  {
   "cell_type": "code",
   "execution_count": null,
   "metadata": {},
   "outputs": [],
   "source": [
    "import pandas as pd\n",
    "df = pd.read_csv('data/data.csv')"
   ]
  },
  {
   "cell_type": "code",
   "execution_count": null,
   "metadata": {},
   "outputs": [],
   "source": [
    "df[df['token'].isna()]"
   ]
  },
  {
   "cell_type": "code",
   "execution_count": null,
   "metadata": {},
   "outputs": [],
   "source": [
    "df.dropna(how='any', inplace=True)\n",
    "df[df['token'].isna()]"
   ]
  },
  {
   "cell_type": "code",
   "execution_count": null,
   "metadata": {},
   "outputs": [],
   "source": [
    "df.to_csv('data/data.csv', index=0)"
   ]
  },
  {
   "cell_type": "code",
   "execution_count": null,
   "metadata": {},
   "outputs": [],
   "source": []
  },
  {
   "cell_type": "code",
   "execution_count": null,
   "metadata": {},
   "outputs": [],
   "source": []
  },
  {
   "cell_type": "code",
   "execution_count": null,
   "metadata": {},
   "outputs": [],
   "source": []
  },
  {
   "cell_type": "markdown",
   "metadata": {},
   "source": [
    "#web data"
   ]
  },
  {
   "cell_type": "code",
   "execution_count": null,
   "metadata": {},
   "outputs": [],
   "source": [
    "from PrepareData.get_all_web_info_data import gen_all_case_info_col "
   ]
  },
  {
   "cell_type": "code",
   "execution_count": null,
   "metadata": {},
   "outputs": [],
   "source": [
    "gen_all_case_info_col()"
   ]
  },
  {
   "cell_type": "code",
   "execution_count": null,
   "metadata": {},
   "outputs": [],
   "source": []
  },
  {
   "cell_type": "code",
   "execution_count": null,
   "metadata": {},
   "outputs": [],
   "source": [
    "import pandas as pd\n",
    "from pymongo import MongoClient, ASCENDING\n",
    "\n",
    "conn = MongoClient('172.19.241.248', 20000)\n",
    "src_col = conn['wangxiao']['web_case_info']\n",
    "to_col = conn['wangxiao']['web_case_info_tmp']\n",
    "# to_col.create_index([('fulltextid', ASCENDING)])\n"
   ]
  },
  {
   "cell_type": "code",
   "execution_count": null,
   "metadata": {},
   "outputs": [],
   "source": [
    "all_data = pd.DataFrame([], columns=['docId', 'keywords'])\n",
    "\n",
    "names = ['9001', '9012', '9047', '9130', '9299', '9461', '9483', '9542', '9705', '9771']\n",
    "\n",
    "for name in names:\n",
    "    df = pd.read_csv('data/trainSet/keywords'+name+'.csv')\n",
    "    all_data = pd.concat([all_data, df])\n",
    "    \n",
    "len(all_data)"
   ]
  },
  {
   "cell_type": "code",
   "execution_count": null,
   "metadata": {},
   "outputs": [],
   "source": [
    "i = 0\n",
    "buffer = []\n",
    "for item in src_col.find(no_cursor_timeout = True):\n",
    "    key_words = all_data[all_data['docId']==item['fulltextid']]['keywords'].tolist()\n",
    "    if len(key_words)>0:\n",
    "        item['keywords'] = key_words[0]\n",
    "    buffer.append(item)\n",
    "    \n",
    "    if i%2000 == 0:\n",
    "        print(i)\n",
    "    i+=1\n",
    "    if len(buffer)>=20000:\n",
    "        to_col.insert_many(buffer)\n",
    "        buffer.clear()\n",
    "if len(buffer)>=0:\n",
    "    to_col.insert_many(buffer)\n",
    "    buffer.clear()"
   ]
  },
  {
   "cell_type": "code",
   "execution_count": null,
   "metadata": {},
   "outputs": [],
   "source": []
  },
  {
   "cell_type": "code",
   "execution_count": 1,
   "metadata": {},
   "outputs": [],
   "source": [
    "from pymongo import MongoClient, ASCENDING\n",
    "CONN = MongoClient('172.19.241.248', 20000)\n",
    "db = CONN['wangxiao']"
   ]
  },
  {
   "cell_type": "code",
   "execution_count": 2,
   "metadata": {},
   "outputs": [],
   "source": [
    "src_col1 = db['web_case_info']\n",
    "src_col2 = db['alldata_final']\n",
    "out_col = db['web_case_info_tmp']\n",
    "# out_col.create_index([('fulltextid', ASCENDING)])"
   ]
  },
  {
   "cell_type": "code",
   "execution_count": null,
   "metadata": {},
   "outputs": [
    {
     "name": "stdout",
     "output_type": "stream",
     "text": [
      "1000\n",
      "2000\n",
      "3000\n",
      "4000\n",
      "5000\n",
      "6000\n",
      "7000\n",
      "8000\n",
      "9000\n",
      "10000\n",
      "11000\n",
      "12000\n",
      "13000\n",
      "14000\n",
      "15000\n",
      "16000\n",
      "17000\n",
      "18000\n",
      "19000\n",
      "20000\n",
      "21000\n",
      "22000\n",
      "23000\n",
      "24000\n",
      "25000\n",
      "26000\n",
      "27000\n",
      "28000\n",
      "29000\n",
      "30000\n",
      "31000\n",
      "32000\n",
      "33000\n",
      "34000\n",
      "35000\n",
      "36000\n",
      "37000\n",
      "38000\n",
      "39000\n",
      "40000\n",
      "41000\n",
      "42000\n",
      "43000\n",
      "44000\n",
      "45000\n",
      "46000\n",
      "47000\n",
      "48000\n",
      "49000\n",
      "50000\n",
      "51000\n",
      "52000\n",
      "53000\n",
      "54000\n",
      "55000\n",
      "56000\n",
      "57000\n",
      "58000\n",
      "59000\n",
      "60000\n",
      "61000\n",
      "62000\n",
      "63000\n",
      "64000\n",
      "65000\n",
      "66000\n",
      "67000\n",
      "68000\n",
      "69000\n"
     ]
    }
   ],
   "source": [
    "index = 0\n",
    "buffer = []\n",
    "demo = src_col1.find(no_cursor_timeout = True)\n",
    "for item in demo:    \n",
    "    index+=1\n",
    "    if index%1000==0:\n",
    "        print(index)\n",
    "        \n",
    "    try:\n",
    "        f = src_col2.find_one({'fullTextId':item['fulltextid']})\n",
    "        item['token'] = f['rigour_cleaned']\n",
    "    except:\n",
    "        continue\n",
    "    buffer.append(item)\n",
    "    \n",
    "    if len(buffer)>=20000:\n",
    "        out_col.insert_many(buffer)\n",
    "        buffer.clear()\n",
    "        \n",
    "demo.close()      \n",
    "if len(buffer)>=0:\n",
    "    out_col.insert_many(buffer)\n",
    "    buffer.clear()"
   ]
  },
  {
   "cell_type": "code",
   "execution_count": null,
   "metadata": {},
   "outputs": [],
   "source": []
  }
 ],
 "metadata": {
  "kernelspec": {
   "display_name": "Python 3",
   "language": "python",
   "name": "python3"
  },
  "language_info": {
   "codemirror_mode": {
    "name": "ipython",
    "version": 3
   },
   "file_extension": ".py",
   "mimetype": "text/x-python",
   "name": "python",
   "nbconvert_exporter": "python",
   "pygments_lexer": "ipython3",
   "version": "3.5.2"
  }
 },
 "nbformat": 4,
 "nbformat_minor": 2
}
