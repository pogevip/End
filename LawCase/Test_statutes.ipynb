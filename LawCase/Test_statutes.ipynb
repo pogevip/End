{
 "cells": [
  {
   "cell_type": "code",
   "execution_count": 1,
   "metadata": {},
   "outputs": [],
   "source": [
    "from Statutes.test import test"
   ]
  },
  {
   "cell_type": "code",
   "execution_count": 2,
   "metadata": {},
   "outputs": [],
   "source": [
    "rank_data_dir = 'data/trainSet/rank/search_res_std/'\n",
    "ref_data_dir = 'data/trainSet/rank/each_cls_data/'\n",
    "out_dir = 'data/trainSet/rank/test_case/'\n",
    "\n",
    "# CLS = ['9001', '9012', '9047', '9130', '9299',\n",
    "#     '9461', '9483', '9542', '9705', '9771']\n",
    "CLS = ['9130']"
   ]
  },
  {
   "cell_type": "code",
   "execution_count": 3,
   "metadata": {},
   "outputs": [
    {
     "name": "stdout",
     "output_type": "stream",
     "text": [
      "------9130------\n",
      "finish!\n"
     ]
    }
   ],
   "source": [
    "for cls in CLS:\n",
    "    print('------' + cls + '------')\n",
    "    test(cls, rank_data_dir, ref_data_dir, out_dir)"
   ]
  },
  {
   "cell_type": "code",
   "execution_count": null,
   "metadata": {},
   "outputs": [],
   "source": []
  },
  {
   "cell_type": "code",
   "execution_count": null,
   "metadata": {},
   "outputs": [],
   "source": []
  },
  {
   "cell_type": "code",
   "execution_count": 4,
   "metadata": {},
   "outputs": [],
   "source": [
    "CLS = ['9001', '9012', '9047', '9130', '9299',\n",
    "       '9461', '9483', '9542', '9705', '9771']\n",
    "b_statute = [0, 0.1, 0.2, 0.3, 0.4, 0.5, 0.6, 0.7, 0.8, 0.9]\n",
    "b_case = [10, 20, 30, 40, 50, 60, 70, 80, 90, 100]"
   ]
  },
  {
   "cell_type": "code",
   "execution_count": 5,
   "metadata": {},
   "outputs": [
    {
     "data": {
      "text/plain": [
       "[[0.479971418066845, 0.9597108219206073, 0.588224428602534],\n",
       " [0.35480036785327596, 0.9657203725228286, 0.4612956697866455],\n",
       " [0.2872977642210039, 0.967853261991983, 0.3881544059863496],\n",
       " [0.23134372197321085, 0.96893069365958, 0.3290922677660284],\n",
       " [0.19182920471624645, 0.9694945656498754, 0.2848733584744962],\n",
       " [0.16794121204676726, 0.9698266806434508, 0.2551628855323271],\n",
       " [0.15041052328829227, 0.9700584584474204, 0.23202270440113806],\n",
       " [0.13591553528342942, 0.9701684070727924, 0.2121895082483942],\n",
       " [0.12307736608927536, 0.9702210869559068, 0.19419855155588392],\n",
       " [0.10642503495253944, 0.9702507817436701, 0.1716589196563033]]"
      ]
     },
     "execution_count": 5,
     "metadata": {},
     "output_type": "execute_result"
    }
   ],
   "source": [
    "import pickle\n",
    "\n",
    "data = {}\n",
    "for c in CLS:\n",
    "    with open('data/trainSet/rank/test_case/'+c+'.pkl', 'rb') as fp:\n",
    "        data[c] = pickle.load(fp)\n",
    "\n",
    "tmp = []\n",
    "for b in b_case:\n",
    "    p_tmp = []\n",
    "    r_tmp = []\n",
    "    f_tmp = []\n",
    "    for c in CLS:\n",
    "        p_tmp.extend(data[c][b]['p'])\n",
    "        r_tmp.extend(data[c][b]['r'])\n",
    "        f_tmp.extend(data[c][b]['f'])\n",
    "    \n",
    "    tmp.append([sum(p_tmp)/len(p_tmp),\n",
    "               sum(r_tmp)/len(r_tmp),\n",
    "               sum(f_tmp)/len(f_tmp)])\n",
    "tmp"
   ]
  },
  {
   "cell_type": "code",
   "execution_count": 6,
   "metadata": {},
   "outputs": [
    {
     "data": {
      "text/plain": [
       "[[0.10642503495253944, 0.9702507817436701, 0.1716589196563033],\n",
       " [0.22423199074455114, 0.9693291028247939, 0.3255567967135386],\n",
       " [0.36231765625850954, 0.9634840020324408, 0.4778688462433153],\n",
       " [0.5304637752421142, 0.9532310991761643, 0.6361447086524299],\n",
       " [0.691362748562903, 0.9409468647329535, 0.7601509137617307],\n",
       " [0.7902914256324163, 0.9276111600120444, 0.8266679120725551],\n",
       " [0.8675071205045685, 0.9137953914692323, 0.870421408320735],\n",
       " [0.9132100146670868, 0.8996875683716863, 0.8883814680821661],\n",
       " [0.9341946303044197, 0.8857021369268194, 0.8888548717399432],\n",
       " [0.9430105071010827, 0.872328591315628, 0.8812789413513032]]"
      ]
     },
     "execution_count": 6,
     "metadata": {},
     "output_type": "execute_result"
    }
   ],
   "source": [
    "import pickle\n",
    "\n",
    "data = {}\n",
    "for c in CLS:\n",
    "    with open('data/trainSet/rank/test_statute1/'+c+'.pkl', 'rb') as fp:\n",
    "        data[c] = pickle.load(fp)\n",
    "\n",
    "tmp = []\n",
    "for b in b_statute:\n",
    "    p_tmp = []\n",
    "    r_tmp = []\n",
    "    f_tmp = []\n",
    "    for c in CLS:\n",
    "        p_tmp.extend(data[c][b]['p'])\n",
    "        r_tmp.extend(data[c][b]['r'])\n",
    "        f_tmp.extend(data[c][b]['f'])\n",
    "    \n",
    "    tmp.append([sum(p_tmp)/len(p_tmp),\n",
    "               sum(r_tmp)/len(r_tmp),\n",
    "               sum(f_tmp)/len(f_tmp)])\n",
    "tmp"
   ]
  },
  {
   "cell_type": "code",
   "execution_count": null,
   "metadata": {},
   "outputs": [],
   "source": []
  }
 ],
 "metadata": {
  "kernelspec": {
   "display_name": "Python 3",
   "language": "python",
   "name": "python3"
  },
  "language_info": {
   "codemirror_mode": {
    "name": "ipython",
    "version": 3
   },
   "file_extension": ".py",
   "mimetype": "text/x-python",
   "name": "python",
   "nbconvert_exporter": "python",
   "pygments_lexer": "ipython3",
   "version": "3.5.2"
  }
 },
 "nbformat": 4,
 "nbformat_minor": 2
}
