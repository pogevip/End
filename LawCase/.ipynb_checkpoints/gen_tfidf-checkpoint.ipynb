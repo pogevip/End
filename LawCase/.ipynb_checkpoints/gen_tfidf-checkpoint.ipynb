{
 "cells": [
  {
   "cell_type": "code",
   "execution_count": null,
   "metadata": {},
   "outputs": [],
   "source": [
    "from PrepareData.gen_tfidf_data import trans_data_to_file"
   ]
  },
  {
   "cell_type": "code",
   "execution_count": null,
   "metadata": {},
   "outputs": [],
   "source": [
    "# trans_data_to_file(path='data/data.csv', out_dir='data/trainSet/rank/tfidf/')"
   ]
  },
  {
   "cell_type": "code",
   "execution_count": null,
   "metadata": {},
   "outputs": [],
   "source": [
    "trans_data_to_file(path='data/trainSet/classifier/web_data.csv', out_dir='data/trainSet/rank/tfidf_web/')"
   ]
  },
  {
   "cell_type": "code",
   "execution_count": 1,
   "metadata": {},
   "outputs": [],
   "source": [
    "from PrepareData.gen_tfidf_data import TfIdfVec, read_data_from_dir\n",
    "import os"
   ]
  },
  {
   "cell_type": "code",
   "execution_count": null,
   "metadata": {},
   "outputs": [],
   "source": [
    "for cls, docid_list, corpus in read_data_from_dir('data/trainSet/rank/tfidf_web/'):\n",
    "    tiv = TfIdfVec(corpus, docid_list, cls, min_count=10, \n",
    "                   word_dic_path=os.path.join('data/trainSet/rank/dict/', cls+'_dictionary.dic'))\n",
    "    tiv.run()\n",
    "\n",
    "print('Finished!')"
   ]
  },
  {
   "cell_type": "code",
   "execution_count": null,
   "metadata": {},
   "outputs": [],
   "source": []
  },
  {
   "cell_type": "markdown",
   "metadata": {},
   "source": [
    "#web"
   ]
  },
  {
   "cell_type": "code",
   "execution_count": null,
   "metadata": {},
   "outputs": [],
   "source": [
    "import pandas as pd\n",
    "import pickle\n",
    "CLS = ['9001', '9012', '9047', '9130', '9299',\n",
    "       '9461', '9483', '9542', '9705', '9771']\n",
    "def trans_data_to_file(path='data/trainSet/rank/each_cls_data_web/', out_dir='data/trainSet/rank/tfidf_web/'):\n",
    "    if not os.path.exists(out_dir):\n",
    "        os.makedirs(out_dir)\n",
    "\n",
    "    for cls in CLS:\n",
    "        print(cls)\n",
    "        data = pd.read_csv(path+cls+'.csv')\n",
    "        id_list = data['id'].tolist()\n",
    "        data['token'] = data['token'].apply(lambda x:x.replace('。', ' '))\n",
    "        doc_list = data['token'].tolist()\n",
    "\n",
    "        res = {\n",
    "            'id': id_list,\n",
    "            'doc': doc_list,\n",
    "        }\n",
    "        with open(os.path.join(out_dir, str(cls) + '.pkl'), 'wb') as fp:\n",
    "            pickle.dump(res, fp)\n",
    "trans_data_to_file()"
   ]
  },
  {
   "cell_type": "code",
   "execution_count": null,
   "metadata": {},
   "outputs": [],
   "source": [
    "from PrepareData.gen_tfidf_data import TfIdfVec, read_data_from_dir\n",
    "import os\n",
    "\n",
    "for cls, docid_list, corpus in read_data_from_dir('data/trainSet/rank/tfidf_web/'):\n",
    "    tiv = TfIdfVec(corpus, docid_list, cls, min_count=10, \n",
    "                   word_dic_path=os.path.join('data/trainSet/rank/dict/', cls+'_dictionary.dic'))\n",
    "    tiv.run()\n",
    "\n",
    "print('Finished!')"
   ]
  },
  {
   "cell_type": "code",
   "execution_count": null,
   "metadata": {},
   "outputs": [],
   "source": []
  }
 ],
 "metadata": {
  "kernelspec": {
   "display_name": "Python 3",
   "language": "python",
   "name": "python3"
  },
  "language_info": {
   "codemirror_mode": {
    "name": "ipython",
    "version": 3
   },
   "file_extension": ".py",
   "mimetype": "text/x-python",
   "name": "python",
   "nbconvert_exporter": "python",
   "pygments_lexer": "ipython3",
   "version": "3.5.2"
  }
 },
 "nbformat": 4,
 "nbformat_minor": 2
}
