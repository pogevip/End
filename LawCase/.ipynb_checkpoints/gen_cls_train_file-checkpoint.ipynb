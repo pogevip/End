{
 "cells": [
  {
   "cell_type": "code",
   "execution_count": 1,
   "metadata": {},
   "outputs": [],
   "source": [
    "import TextClassifier.gen_cls_weight_and_dic as gcwd"
   ]
  },
  {
   "cell_type": "code",
   "execution_count": 2,
   "metadata": {},
   "outputs": [
    {
     "name": "stdout",
     "output_type": "stream",
     "text": [
      "finished!\n"
     ]
    }
   ],
   "source": [
    "from_path = 'data/trainSet/classifier/web_train_info.csv'\n",
    "out_path = 'data/trainSet/classifier/web_cls.dic'\n",
    "data = gcwd.load_path(from_path)\n",
    "\n",
    "adw_gen = gcwd.cls_dic_weight_generator(data, out_path)\n",
    "adw_gen.run()"
   ]
  },
  {
   "cell_type": "code",
   "execution_count": null,
   "metadata": {},
   "outputs": [],
   "source": []
  },
  {
   "cell_type": "code",
   "execution_count": 3,
   "metadata": {},
   "outputs": [
    {
     "data": {
      "text/plain": [
       "{9001: (7, 0.7960614167648399),\n",
       " 9012: (4, 1.1426396412720337),\n",
       " 9047: (6, 1.0939128736181656),\n",
       " 9130: (8, 0.6270939309923963),\n",
       " 9299: (2, 1.1426396412720337),\n",
       " 9461: (5, 1.1426396412720337),\n",
       " 9483: (1, 1.1426396412720337),\n",
       " 9542: (3, 1.1426396412720337),\n",
       " 9705: (9, 0.6270939309923963),\n",
       " 9771: (0, 1.1426396412720337)}"
      ]
     },
     "execution_count": 3,
     "metadata": {},
     "output_type": "execute_result"
    }
   ],
   "source": [
    "import pickle\n",
    "with open('data/trainSet/classifier/web_cls.dic', 'rb') as fp:\n",
    "    dic = pickle.load(fp)\n",
    "dic"
   ]
  },
  {
   "cell_type": "code",
   "execution_count": null,
   "metadata": {},
   "outputs": [],
   "source": []
  },
  {
   "cell_type": "code",
   "execution_count": 1,
   "metadata": {},
   "outputs": [],
   "source": [
    "import TextClassifier.gen_train_file as gtf"
   ]
  },
  {
   "cell_type": "code",
   "execution_count": 2,
   "metadata": {},
   "outputs": [],
   "source": [
    "out_path = 'data/trainSet/classifier/web_train_file_dnn'\n",
    "data_path = 'data/trainSet/classifier/web_train_info.csv'\n",
    "word_dict_path = 'data/trainSet/classifier/dictionary.dic'\n",
    "cls_dict_path = 'data/trainSet/classifier/web_cls.dic'"
   ]
  },
  {
   "cell_type": "code",
   "execution_count": 3,
   "metadata": {},
   "outputs": [],
   "source": [
    "all_data = gtf.load_data(data_path)\n",
    "word_dict = gtf.load_dict(word_dict_path)\n",
    "cls_dict = gtf.load_cls_dict(cls_dict_path)"
   ]
  },
  {
   "cell_type": "code",
   "execution_count": 4,
   "metadata": {},
   "outputs": [
    {
     "name": "stdout",
     "output_type": "stream",
     "text": [
      "9001 50000\n",
      "9012 50000\n",
      "9047 50000\n",
      "9130 50000\n",
      "9299 31929\n",
      "9461 50000\n",
      "9483 20000\n",
      "9542 47821\n",
      "9705 50000\n",
      "9771 20000\n"
     ]
    }
   ],
   "source": [
    "for _,v in all_data.groupby('cls'):\n",
    "    print(_, len(v))"
   ]
  },
  {
   "cell_type": "code",
   "execution_count": 5,
   "metadata": {},
   "outputs": [
    {
     "name": "stdout",
     "output_type": "stream",
     "text": [
      "1\n",
      "2\n",
      "3\n",
      "finish!\n"
     ]
    }
   ],
   "source": [
    "gtf.gen_train_file(all_data, word_dict, cls_dict, out_path, is_cls=[])"
   ]
  },
  {
   "cell_type": "code",
   "execution_count": null,
   "metadata": {},
   "outputs": [],
   "source": [
    "40000*0.0005"
   ]
  },
  {
   "cell_type": "code",
   "execution_count": null,
   "metadata": {},
   "outputs": [],
   "source": []
  },
  {
   "cell_type": "code",
   "execution_count": null,
   "metadata": {},
   "outputs": [],
   "source": [
    "import pickle\n",
    "from collections import Counter\n",
    "\n",
    "with open('data/trainSet/classifier/cls_5w.dic', 'rb') as fp:\n",
    "    cls = pickle.load(fp)\n",
    "cls"
   ]
  },
  {
   "cell_type": "code",
   "execution_count": null,
   "metadata": {},
   "outputs": [],
   "source": [
    "with open('data/trainSet/classifier/train_file_5w/test.pkl', 'rb') as fp:\n",
    "    data = pickle.load(fp)\n",
    "Counter(data['Y'])"
   ]
  },
  {
   "cell_type": "code",
   "execution_count": null,
   "metadata": {},
   "outputs": [],
   "source": []
  },
  {
   "cell_type": "code",
   "execution_count": 1,
   "metadata": {},
   "outputs": [],
   "source": [
    "import pickle\n",
    "with open('data/trainSet/classifier/train_file_5w_1/train.pkl', 'rb') as fp:\n",
    "    data=pickle.load(fp)"
   ]
  },
  {
   "cell_type": "code",
   "execution_count": 2,
   "metadata": {},
   "outputs": [
    {
     "name": "stdout",
     "output_type": "stream",
     "text": [
      "9299 40000\n",
      "9012 200000\n",
      "9461 120000\n",
      "9542 40000\n",
      "9047 80000\n",
      "9483 40000\n",
      "9001 70000\n",
      "9130 200000\n",
      "9771 40000\n",
      "9705 200000\n"
     ]
    }
   ],
   "source": [
    "for cls, d in data.items():\n",
    "    print(cls, len(d['X']))"
   ]
  },
  {
   "cell_type": "code",
   "execution_count": null,
   "metadata": {},
   "outputs": [],
   "source": [
    "import pickle\n",
    "with open('data/trainSet/classifier/train_file_5w/train.pkl', 'rb') as fp:\n",
    "    data=pickle.load(fp)\n",
    "print(len(data['X']))"
   ]
  },
  {
   "cell_type": "code",
   "execution_count": null,
   "metadata": {},
   "outputs": [],
   "source": []
  }
 ],
 "metadata": {
  "kernelspec": {
   "display_name": "Python 3",
   "language": "python",
   "name": "python3"
  },
  "language_info": {
   "codemirror_mode": {
    "name": "ipython",
    "version": 3
   },
   "file_extension": ".py",
   "mimetype": "text/x-python",
   "name": "python",
   "nbconvert_exporter": "python",
   "pygments_lexer": "ipython3",
   "version": "3.5.2"
  }
 },
 "nbformat": 4,
 "nbformat_minor": 2
}
