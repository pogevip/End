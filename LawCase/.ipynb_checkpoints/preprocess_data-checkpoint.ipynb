{
 "cells": [
  {
   "cell_type": "code",
   "execution_count": null,
   "metadata": {},
   "outputs": [],
   "source": [
    "from pymongo import MongoClient\n",
    "import pandas as pd\n",
    "import numpy as np\n",
    "\n",
    "pd.set_option('max_colwidth', 500)"
   ]
  },
  {
   "cell_type": "code",
   "execution_count": null,
   "metadata": {},
   "outputs": [],
   "source": [
    "import matplotlib.pyplot as plt\n",
    "import matplotlib \n",
    "\n",
    "matplotlib.style.use('ggplot')"
   ]
  },
  {
   "cell_type": "code",
   "execution_count": null,
   "metadata": {},
   "outputs": [],
   "source": [
    "conn = MongoClient('172.19.241.248', 20000)\n",
    "db = conn.lawCase"
   ]
  },
  {
   "cell_type": "code",
   "execution_count": null,
   "metadata": {},
   "outputs": [],
   "source": [
    "statutes = []\n",
    "\n",
    "\n",
    "set1 = db.paragraph\n",
    "for item in set1.find():\n",
    "    statutes.append([item['fullTextId'], item['codeOfCauseOfAction']])"
   ]
  },
  {
   "cell_type": "code",
   "execution_count": null,
   "metadata": {},
   "outputs": [],
   "source": [
    "statutes_df = pd.DataFrame(statutes, columns=['id', 'statute_code'])\n",
    "statutes_df"
   ]
  },
  {
   "cell_type": "code",
   "execution_count": null,
   "metadata": {},
   "outputs": [],
   "source": [
    "seg_data = []\n",
    "\n",
    "set2 = db.AJsegment\n",
    "for item in set2.find():\n",
    "    tmp = [item['fulltextid']]\n",
    "\n",
    "    if item['plaintiffAlleges'] is not None and 'token' in item['plaintiffAlleges']:\n",
    "        tmp.append(item['plaintiffAlleges']['token'])\n",
    "    else:\n",
    "        tmp.append(None)\n",
    "        \n",
    "    if item['defendantArgued'] is not None and 'token' in item['defendantArgued']:\n",
    "        tmp.append(item['defendantArgued']['token'])\n",
    "    else:\n",
    "        tmp.append(None)\n",
    "        \n",
    "    if item['factFound'] is not None and 'token' in item['factFound']:\n",
    "        tmp.append(item['factFound']['token'])\n",
    "    else:\n",
    "        tmp.append(None)\n",
    "        \n",
    "    seg_data.append(tmp)\n",
    "len(seg_data)"
   ]
  },
  {
   "cell_type": "code",
   "execution_count": null,
   "metadata": {},
   "outputs": [],
   "source": [
    "seg_df = pd.DataFrame(seg_data, columns=['id', 'plaintiff', 'defendant', 'fact'])\n",
    "seg_df"
   ]
  },
  {
   "cell_type": "code",
   "execution_count": null,
   "metadata": {},
   "outputs": [],
   "source": [
    "all_info = pd.merge(seg_df, statutes_df, on='id', how='inner')\n",
    "all_info"
   ]
  },
  {
   "cell_type": "code",
   "execution_count": null,
   "metadata": {},
   "outputs": [],
   "source": [
    "def statute_col_helper(x):\n",
    "    if len(x)==0:\n",
    "        return None\n",
    "    else:\n",
    "        return x\n",
    "all_info['statute_code'] = all_info['statute_code'].apply(statute_col_helper)\n"
   ]
  },
  {
   "cell_type": "code",
   "execution_count": null,
   "metadata": {},
   "outputs": [],
   "source": [
    "import re\n",
    "p_re = re.compile(r'.*诉\\s*称\\s*，\\s*|.*诉\\s*称\\s*：\\s*')\n",
    "d_re = re.compile(r'.*辩称\\s*，|：\\s*')\n",
    "f_re = re.compile(r'.*审理\\s*查明\\s*，\\s*|.*审理\\s*查明\\s*：\\s*|.*本院.*事实.*?：\\s*')\n",
    "\n",
    "\n",
    "text = '''\n",
    "依据 本院 审核 认定 的 证据 及 当事人 陈述 查明 的 事实 如下 ： 2011 年 10 月 13 日 ， 李 某某 向 沈 某某 借款 100000 元 ， 并 出具 借条 一份 ， 内容 为 ： “ 今 借到 沈 某某 人民币 拾 万元 整 ， 此 据 借款人 ： 李 某某 。 还款 日期 2012 年 4 ． 13 日 ” 并 注明 住址 及 身份证 号码 。 2012 年 10 月 22 日 ， 李 某某 向 沈 某某 借款 20000 元 ， 并 出具 借条 一份 ， 内容 为 ： “ 今 借到 沈 某某 人民币 贰 万元 整 ， 此 据 借款人 ： 李 某某 。 此...\n",
    "'''\n",
    "text = re.sub(f_re, '', text)\n",
    "print(text)"
   ]
  },
  {
   "cell_type": "code",
   "execution_count": null,
   "metadata": {},
   "outputs": [],
   "source": [
    "def fact_col_helper(row):\n",
    "    if pd.isnull(row['fact']):\n",
    "        return None\n",
    "    else:\n",
    "        if f_re.search(row['fact']):\n",
    "            return re.sub(f_re, '', row['fact']).strip()\n",
    "        elif pd.notnull(row['plaintiff']) and p_re.search(row['plaintiff']):\n",
    "            return re.sub(p_re, '', row['plaintiff']).strip()\n",
    "        else:\n",
    "            return None"
   ]
  },
  {
   "cell_type": "code",
   "execution_count": null,
   "metadata": {},
   "outputs": [],
   "source": [
    "example = all_info.head(1000)"
   ]
  },
  {
   "cell_type": "code",
   "execution_count": null,
   "metadata": {},
   "outputs": [],
   "source": [
    "import time\n",
    "start = time.time()\n",
    "# example['fact_1'] = example['fact'].apply(fact_col_helper)\n",
    "example['fact_1'] = example.apply(fact_col_helper, axis=1)\n",
    "end = time.time()\n",
    "print(end-start)\n",
    "example.loc[:,['fact','fact_1']]"
   ]
  },
  {
   "cell_type": "code",
   "execution_count": null,
   "metadata": {},
   "outputs": [],
   "source": [
    "all_info['text'] = all_info.apply(fact_col_helper, axis=1)"
   ]
  },
  {
   "cell_type": "code",
   "execution_count": null,
   "metadata": {},
   "outputs": [],
   "source": [
    "data_df = all_info.loc[:,['id', 'text', 'statute_code']]\n",
    "# data_df.to_csv('data/data.csv', index=0)"
   ]
  },
  {
   "cell_type": "code",
   "execution_count": null,
   "metadata": {},
   "outputs": [],
   "source": [
    "data_df.dropna(how='any',inplace=True)"
   ]
  },
  {
   "cell_type": "code",
   "execution_count": null,
   "metadata": {},
   "outputs": [],
   "source": [
    "data_df['statute_code'].value_counts()"
   ]
  },
  {
   "cell_type": "code",
   "execution_count": null,
   "metadata": {},
   "outputs": [],
   "source": [
    "data_df"
   ]
  },
  {
   "cell_type": "code",
   "execution_count": null,
   "metadata": {},
   "outputs": [],
   "source": [
    "import pickle\n",
    "with open('data/code_map.dict', 'rb') as fp:\n",
    "    code_dict = pickle.load(fp)"
   ]
  },
  {
   "cell_type": "code",
   "execution_count": null,
   "metadata": {},
   "outputs": [],
   "source": [
    "data_df['label'] = data_df['statute_code'].apply(lambda x : code_dict[x] if x in code_dict else None)"
   ]
  },
  {
   "cell_type": "code",
   "execution_count": null,
   "metadata": {},
   "outputs": [],
   "source": [
    "data_df"
   ]
  },
  {
   "cell_type": "code",
   "execution_count": null,
   "metadata": {},
   "outputs": [],
   "source": [
    "tmp = data_df[(data_df['statute_code'] >= '9130') & (data_df['statute_code'] < '9300')]\n",
    "len(tmp)"
   ]
  },
  {
   "cell_type": "code",
   "execution_count": null,
   "metadata": {},
   "outputs": [],
   "source": [
    "grouped = tmp.groupby('statute_code')\n",
    "t = grouped['text'].agg(np.size)"
   ]
  },
  {
   "cell_type": "code",
   "execution_count": null,
   "metadata": {},
   "outputs": [],
   "source": [
    "t"
   ]
  },
  {
   "cell_type": "code",
   "execution_count": null,
   "metadata": {},
   "outputs": [],
   "source": [
    "data_df.groupby('label').count()"
   ]
  },
  {
   "cell_type": "code",
   "execution_count": null,
   "metadata": {},
   "outputs": [],
   "source": [
    "statutes = pd.read_csv('data/statute_code.csv')\n",
    "statutes"
   ]
  },
  {
   "cell_type": "code",
   "execution_count": null,
   "metadata": {},
   "outputs": [],
   "source": [
    "level = re.compile(r'(\\d{4})-9000')\n",
    "def code_helper(x):\n",
    "    tmp = level.search(x)\n",
    "    if tmp:\n",
    "        return tmp.group(1)\n",
    "    else:\n",
    "        return None\n",
    "statutes['std'] = statutes['tree'].apply(code_helper)"
   ]
  },
  {
   "cell_type": "code",
   "execution_count": null,
   "metadata": {},
   "outputs": [],
   "source": [
    "statutes.groupby('std').count()"
   ]
  },
  {
   "cell_type": "code",
   "execution_count": null,
   "metadata": {},
   "outputs": [],
   "source": [
    "statutes_9130 = statutes[statutes['std']=='9130']\n",
    "statutes_9130"
   ]
  },
  {
   "cell_type": "code",
   "execution_count": null,
   "metadata": {},
   "outputs": [],
   "source": [
    "statutes[statutes['std']=='9130']"
   ]
  },
  {
   "cell_type": "code",
   "execution_count": null,
   "metadata": {},
   "outputs": [],
   "source": [
    "def label(x):\n",
    "    x = int(x)\n",
    "    if x in code_dict:\n",
    "        return code_dict[x]\n",
    "    else:\n",
    "        return None"
   ]
  },
  {
   "cell_type": "code",
   "execution_count": null,
   "metadata": {},
   "outputs": [],
   "source": []
  },
  {
   "cell_type": "code",
   "execution_count": null,
   "metadata": {},
   "outputs": [],
   "source": []
  }
 ],
 "metadata": {
  "kernelspec": {
   "display_name": "Python 3",
   "language": "python",
   "name": "python3"
  },
  "language_info": {
   "codemirror_mode": {
    "name": "ipython",
    "version": 3
   },
   "file_extension": ".py",
   "mimetype": "text/x-python",
   "name": "python",
   "nbconvert_exporter": "python",
   "pygments_lexer": "ipython3",
   "version": "3.5.2"
  }
 },
 "nbformat": 4,
 "nbformat_minor": 2
}
