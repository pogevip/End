{
 "cells": [
  {
   "cell_type": "code",
   "execution_count": 1,
   "metadata": {},
   "outputs": [],
   "source": [
    "from Statutes.test import test"
   ]
  },
  {
   "cell_type": "code",
   "execution_count": 2,
   "metadata": {},
   "outputs": [],
   "source": [
    "rank_data_dir = 'data/trainSet/rank/search_res_std/'\n",
    "ref_data_dir = 'data/trainSet/rank/each_cls_data/'\n",
    "out_dir = 'data/trainSet/rank/test_statute1/'\n",
    "\n",
    "# CLS = ['9001', '9012', '9047', '9130', '9299',\n",
    "#     '9461', '9483', '9542', '9705', '9771']\n",
    "CLS = '9130'"
   ]
  },
  {
   "cell_type": "code",
   "execution_count": 3,
   "metadata": {},
   "outputs": [
    {
     "name": "stdout",
     "output_type": "stream",
     "text": [
      "------9001------\n",
      "finish!\n",
      "------9012------\n",
      "finish!\n",
      "------9047------\n",
      "finish!\n",
      "------9299------\n",
      "finish!\n",
      "------9461------\n",
      "finish!\n",
      "------9483------\n",
      "finish!\n",
      "------9542------\n",
      "finish!\n",
      "------9705------\n",
      "finish!\n",
      "------9771------\n",
      "finish!\n"
     ]
    }
   ],
   "source": [
    "for cls in CLS:\n",
    "    print('------' + cls + '------')\n",
    "    test(cls, rank_data_dir, ref_data_dir, out_dir)"
   ]
  },
  {
   "cell_type": "code",
   "execution_count": null,
   "metadata": {},
   "outputs": [],
   "source": []
  },
  {
   "cell_type": "code",
   "execution_count": null,
   "metadata": {},
   "outputs": [],
   "source": []
  },
  {
   "cell_type": "code",
   "execution_count": 2,
   "metadata": {},
   "outputs": [],
   "source": [
    "CLS = ['9001', '9012', '9047', '9130', '9299',\n",
    "       '9461', '9483', '9542', '9705', '9771']\n",
    "b_statute = [0, 0.1, 0.2, 0.3, 0.4, 0.5, 0.6, 0.7, 0.8, 0.9]\n",
    "b_case = [10, 20, 30, 40, 50, 60, 70, 80, 90, 100]"
   ]
  },
  {
   "cell_type": "code",
   "execution_count": 5,
   "metadata": {},
   "outputs": [
    {
     "data": {
      "text/plain": [
       "[[0.5061226115530836, 0.9761884357554568, 0.6116903857206062],\n",
       " [0.3805328154930216, 0.9782171172107241, 0.48480888903766767],\n",
       " [0.3100567030048846, 0.979025834365957, 0.4100917326265471],\n",
       " [0.24803712099745995, 0.9794665418468662, 0.346644349477952],\n",
       " [0.2039344569924839, 0.9796954980262703, 0.29864028528006825],\n",
       " [0.1780424629631961, 0.9798575846369209, 0.26711269153218786],\n",
       " [0.15927220959042832, 0.9799628750180203, 0.242722477992449],\n",
       " [0.1437867172254571, 0.9800099062667891, 0.2217794009805846],\n",
       " [0.1301596715492124, 0.9800372665283631, 0.20280565495108777],\n",
       " [0.11206890800838133, 0.980063782344341, 0.17827544627716463]]"
      ]
     },
     "execution_count": 5,
     "metadata": {},
     "output_type": "execute_result"
    }
   ],
   "source": [
    "import pickle\n",
    "\n",
    "data = {}\n",
    "for c in CLS:\n",
    "    with open('data/trainSet/rank/test_case/'+c+'.pkl', 'rb') as fp:\n",
    "        data[c] = pickle.load(fp)\n",
    "\n",
    "tmp = []\n",
    "for b in b_case:\n",
    "    p_tmp = []\n",
    "    r_tmp = []\n",
    "    f_tmp = []\n",
    "    for c in CLS:\n",
    "        p_tmp.extend(data[c][b]['p'])\n",
    "        r_tmp.extend(data[c][b]['r'])\n",
    "        f_tmp.extend(data[c][b]['f'])\n",
    "    \n",
    "    tmp.append([sum(p_tmp)/len(p_tmp),\n",
    "               sum(r_tmp)/len(r_tmp),\n",
    "               sum(f_tmp)/len(f_tmp)])\n",
    "tmp"
   ]
  },
  {
   "cell_type": "code",
   "execution_count": 4,
   "metadata": {},
   "outputs": [
    {
     "data": {
      "text/plain": [
       "[[0.11206890800838133, 0.980063782344341, 0.17827544627716463],\n",
       " [0.23266801850836114, 0.9795217757092722, 0.3343320839929285],\n",
       " [0.3690135241705853, 0.9769713330255249, 0.48561415195737895],\n",
       " [0.5381098548944699, 0.9728797761153066, 0.6484788152820011],\n",
       " [0.7059822911615836, 0.967504560903871, 0.7810995607120456],\n",
       " [0.8069957412268407, 0.9613275125431038, 0.8535663028460968],\n",
       " [0.8895583488941726, 0.9548690919352915, 0.9060301277447974],\n",
       " [0.9383787098390897, 0.9482492064995998, 0.9317543032390511],\n",
       " [0.9611064042496266, 0.9418394811014598, 0.9398402764168802],\n",
       " [0.9706415609057749, 0.9356115764132277, 0.9394344288040335]]"
      ]
     },
     "execution_count": 4,
     "metadata": {},
     "output_type": "execute_result"
    }
   ],
   "source": [
    "import pickle\n",
    "\n",
    "data = {}\n",
    "for c in CLS:\n",
    "    with open('data/trainSet/rank/test_statute1/'+c+'.pkl', 'rb') as fp:\n",
    "        data[c] = pickle.load(fp)\n",
    "\n",
    "tmp = []\n",
    "for b in b_statute:\n",
    "    p_tmp = []\n",
    "    r_tmp = []\n",
    "    f_tmp = []\n",
    "    for c in CLS:\n",
    "        p_tmp.extend(data[c][b]['p'])\n",
    "        r_tmp.extend(data[c][b]['r'])\n",
    "        f_tmp.extend(data[c][b]['f'])\n",
    "    \n",
    "    tmp.append([sum(p_tmp)/len(p_tmp),\n",
    "               sum(r_tmp)/len(r_tmp),\n",
    "               sum(f_tmp)/len(f_tmp)])\n",
    "tmp"
   ]
  },
  {
   "cell_type": "code",
   "execution_count": null,
   "metadata": {},
   "outputs": [],
   "source": []
  }
 ],
 "metadata": {
  "kernelspec": {
   "display_name": "Python 3",
   "language": "python",
   "name": "python3"
  },
  "language_info": {
   "codemirror_mode": {
    "name": "ipython",
    "version": 3
   },
   "file_extension": ".py",
   "mimetype": "text/x-python",
   "name": "python",
   "nbconvert_exporter": "python",
   "pygments_lexer": "ipython3",
   "version": "3.5.2"
  }
 },
 "nbformat": 4,
 "nbformat_minor": 2
}
