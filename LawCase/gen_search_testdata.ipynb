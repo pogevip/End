{
 "cells": [
  {
   "cell_type": "markdown",
   "metadata": {},
   "source": [
    "##划分五个大小的数据集"
   ]
  },
  {
   "cell_type": "code",
   "execution_count": null,
   "metadata": {},
   "outputs": [],
   "source": [
    "import Search.testdata_gen as stg"
   ]
  },
  {
   "cell_type": "code",
   "execution_count": null,
   "metadata": {},
   "outputs": [],
   "source": [
    "stg.split_data(path='data/data.csv', out_path='data/trainSet/search/testdata/')"
   ]
  },
  {
   "cell_type": "code",
   "execution_count": null,
   "metadata": {},
   "outputs": [],
   "source": []
  },
  {
   "cell_type": "markdown",
   "metadata": {},
   "source": [
    "##生成tfidf倒排索引表"
   ]
  },
  {
   "cell_type": "code",
   "execution_count": null,
   "metadata": {},
   "outputs": [],
   "source": [
    "from PrepareData.gen_tfidf_data import TfIdfVec\n",
    "import os, pickle"
   ]
  },
  {
   "cell_type": "code",
   "execution_count": null,
   "metadata": {},
   "outputs": [],
   "source": [
    "limit = 2\n",
    "for size in ['1k', '5k', '1w', '5w', '10w']:\n",
    "    with open(os.path.join('data/trainSet/search/testdata/', 'group'+size+'.pkl'), 'rb') as fp:\n",
    "        data = pickle.load(fp)\n",
    "    if size == '5w':\n",
    "        limit = 5\n",
    "    elif size == '10w':\n",
    "        limit = 10\n",
    "\n",
    "    tiv = TfIdfVec(data['doc'], data['id'], 'test_'+size, min_count=limit)\n",
    "    tiv.run()\n",
    "\n",
    "print('Finished!')"
   ]
  },
  {
   "cell_type": "code",
   "execution_count": null,
   "metadata": {},
   "outputs": [],
   "source": []
  },
  {
   "cell_type": "code",
   "execution_count": null,
   "metadata": {},
   "outputs": [],
   "source": []
  },
  {
   "cell_type": "markdown",
   "metadata": {},
   "source": [
    "##生成lda主题分布向量"
   ]
  },
  {
   "cell_type": "code",
   "execution_count": null,
   "metadata": {},
   "outputs": [],
   "source": [
    "from Search.testdata_gen import LDAVecGen\n",
    "import os, pickle"
   ]
  },
  {
   "cell_type": "code",
   "execution_count": null,
   "metadata": {},
   "outputs": [],
   "source": [
    "for size in ['1k', '5k', '1w', '5w', '10w']:\n",
    "    if size == '1k':\n",
    "        topic_num = 15\n",
    "    elif size == '5k':\n",
    "        topic_num = 20\n",
    "    elif size == '1w':\n",
    "        topic_num = 25\n",
    "    elif size == '1w':\n",
    "        topic_num = 30\n",
    "    else:\n",
    "        topic_num = 40\n",
    "    \n",
    "    print(size)\n",
    "    tiv = LDAVecGen(os.path.join('data/trainSet/search/testdata/', 'group'+size+'.pkl'))\n",
    "    tiv.fit_model(topic_num)\n",
    "    tiv.out(model_path='data/trainSet/search/lda_model/'+size, col_name='ldavec_'+size)\n",
    "\n",
    "print('Finished!')"
   ]
  },
  {
   "cell_type": "code",
   "execution_count": null,
   "metadata": {},
   "outputs": [],
   "source": []
  }
 ],
 "metadata": {
  "kernelspec": {
   "display_name": "Python 3",
   "language": "python",
   "name": "python3"
  },
  "language_info": {
   "codemirror_mode": {
    "name": "ipython",
    "version": 3
   },
   "file_extension": ".py",
   "mimetype": "text/x-python",
   "name": "python",
   "nbconvert_exporter": "python",
   "pygments_lexer": "ipython3",
   "version": "3.5.2"
  }
 },
 "nbformat": 4,
 "nbformat_minor": 2
}
