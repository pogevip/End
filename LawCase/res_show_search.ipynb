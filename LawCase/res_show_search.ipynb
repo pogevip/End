{
 "cells": [
  {
   "cell_type": "code",
   "execution_count": 1,
   "metadata": {},
   "outputs": [],
   "source": [
    "import pickle\n",
    "import os"
   ]
  },
  {
   "cell_type": "code",
   "execution_count": 2,
   "metadata": {},
   "outputs": [],
   "source": [
    "dir = 'data/trainSet/search/res'\n",
    "CLS = ['1k', '5k', '1w', '5w', '10w']"
   ]
  },
  {
   "cell_type": "code",
   "execution_count": 13,
   "metadata": {},
   "outputs": [
    {
     "name": "stdout",
     "output_type": "stream",
     "text": [
      "[0.2162999999999999, 0.24670000000000003, 0.2587, 0.2823000000000001, 0.2886999999999999]\n",
      "[0.17830000000000004, 0.22519999999999998, 0.22949999999999993, 0.2775, 0.2690999999999999]\n",
      "[0.8264880952380952, 0.8714761904761904, 0.8550595238095238, 0.8825595238095238, 0.8707261904761906]\n",
      "[0.7945714285714286, 0.872059523809524, 0.8433809523809525, 0.8941547619047618, 0.8434047619047621]\n"
     ]
    }
   ],
   "source": [
    "precision_t = []\n",
    "recall_t = []\n",
    "precision_l = []\n",
    "recall_l = []\n",
    "for c in CLS:\n",
    "    with open(os.path.join(dir, 'tfidf_'+ c +'_res.pkl'), 'rb') as fp:\n",
    "        data = pickle.load(fp)\n",
    "        precision_t.append(sum(data['precision'])/len(data['precision']))\n",
    "        recall_t.append(sum(data['recall'])/len(data['recall']))\n",
    "    with open(os.path.join(dir, 'lda_'+ c +'_res.pkl'), 'rb') as fp:\n",
    "        data = pickle.load(fp)\n",
    "        precision_l.append(sum(data['precision'])/len(data['precision']))\n",
    "        recall_l.append(sum(data['recall'])/len(data['recall']))\n",
    "\n",
    "print(precision_t)\n",
    "print(precision_l)\n",
    "print(recall_t)\n",
    "print(recall_l)"
   ]
  },
  {
   "cell_type": "code",
   "execution_count": 12,
   "metadata": {},
   "outputs": [
    {
     "name": "stdout",
     "output_type": "stream",
     "text": [
      "[0.15321475505828858, 0.2828816056251526, 0.3755924129486084, 0.728632333278656, 0.9390687131881714]\n",
      "[0.039072580337524414, 0.2236852788925171, 0.4991501951217651, 3.45371057510376, 7.2973142647743225]\n"
     ]
    }
   ],
   "source": [
    "time_t = []\n",
    "time_l = []\n",
    "for c in CLS:\n",
    "    with open(os.path.join(dir, 'tfidf_'+ c +'_res.pkl'), 'rb') as fp:\n",
    "        data = pickle.load(fp)\n",
    "        time_t.append(sum([i[1] for i in data['time']])/len(data['time']))\n",
    "    with open(os.path.join(dir, 'lda_'+ c +'_res.pkl'), 'rb') as fp:\n",
    "        data = pickle.load(fp)\n",
    "        time_l.append(sum([i[1] for i in data['time']])/len(data['time']))\n",
    "print(time_t)\n",
    "print(time_l)"
   ]
  },
  {
   "cell_type": "code",
   "execution_count": 16,
   "metadata": {},
   "outputs": [],
   "source": [
    "c = '5k'\n",
    "with open(os.path.join(dir, 'tfidf_'+ c +'_res.pkl'), 'rb') as fp:\n",
    "    data = pickle.load(fp)\n",
    "    t_times = data['time']\n",
    "with open(os.path.join(dir, 'lda_'+ c +'_res.pkl'), 'rb') as fp:\n",
    "    data = pickle.load(fp)\n",
    "    l_times = data['time']\n",
    "\n",
    "import pandas as pd\n",
    "\n",
    "t_times.sort(key=lambda x:x[0])\n",
    "t_df = pd.DataFrame(t_times, columns=['size','time'])\n",
    "t_df.to_csv(os.path.join(dir, 'tfidf_'+ c +'_times.csv'), index=0)\n",
    "\n",
    "l_times.sort(key=lambda x:x[0])\n",
    "l_df = pd.DataFrame(l_times, columns=['size','time'])\n",
    "l_df.to_csv(os.path.join(dir, 'lda_'+ c +'_times.csv'), index=0)"
   ]
  },
  {
   "cell_type": "code",
   "execution_count": null,
   "metadata": {},
   "outputs": [],
   "source": []
  },
  {
   "cell_type": "code",
   "execution_count": null,
   "metadata": {},
   "outputs": [],
   "source": []
  }
 ],
 "metadata": {
  "kernelspec": {
   "display_name": "Python 3",
   "language": "python",
   "name": "python3"
  },
  "language_info": {
   "codemirror_mode": {
    "name": "ipython",
    "version": 3
   },
   "file_extension": ".py",
   "mimetype": "text/x-python",
   "name": "python",
   "nbconvert_exporter": "python",
   "pygments_lexer": "ipython3",
   "version": "3.5.2"
  }
 },
 "nbformat": 4,
 "nbformat_minor": 2
}
