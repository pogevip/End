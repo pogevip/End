{
 "cells": [
  {
   "cell_type": "code",
   "execution_count": 1,
   "metadata": {},
   "outputs": [],
   "source": [
    "import TextClassifier.gen_cls_weight_and_dic as gcwd"
   ]
  },
  {
   "cell_type": "code",
   "execution_count": 2,
   "metadata": {},
   "outputs": [
    {
     "name": "stdout",
     "output_type": "stream",
     "text": [
      "finished!\n"
     ]
    }
   ],
   "source": [
    "from_path = 'data/trainSet/classifier/web_train_info.csv'\n",
    "out_path = 'data/trainSet/classifier/web_cls.dic'\n",
    "data = gcwd.load_path(from_path)\n",
    "\n",
    "adw_gen = gcwd.cls_dic_weight_generator(data, out_path)\n",
    "adw_gen.run()"
   ]
  },
  {
   "cell_type": "code",
   "execution_count": null,
   "metadata": {},
   "outputs": [],
   "source": []
  },
  {
   "cell_type": "code",
   "execution_count": 3,
   "metadata": {},
   "outputs": [
    {
     "data": {
      "text/plain": [
       "{9001: (7, 0.7960614167648399),\n",
       " 9012: (4, 1.1426396412720337),\n",
       " 9047: (6, 1.0939128736181656),\n",
       " 9130: (8, 0.6270939309923963),\n",
       " 9299: (2, 1.1426396412720337),\n",
       " 9461: (5, 1.1426396412720337),\n",
       " 9483: (1, 1.1426396412720337),\n",
       " 9542: (3, 1.1426396412720337),\n",
       " 9705: (9, 0.6270939309923963),\n",
       " 9771: (0, 1.1426396412720337)}"
      ]
     },
     "execution_count": 3,
     "metadata": {},
     "output_type": "execute_result"
    }
   ],
   "source": [
    "import pickle\n",
    "with open('data/trainSet/classifier/web_cls.dic', 'rb') as fp:\n",
    "    dic = pickle.load(fp)\n",
    "dic"
   ]
  },
  {
   "cell_type": "code",
   "execution_count": null,
   "metadata": {},
   "outputs": [],
   "source": []
  },
  {
   "cell_type": "code",
   "execution_count": 1,
   "metadata": {},
   "outputs": [],
   "source": [
    "import TextClassifier.gen_train_file as gtf"
   ]
  },
  {
   "cell_type": "code",
   "execution_count": 2,
   "metadata": {},
   "outputs": [],
   "source": [
    "out_path = 'data/trainSet/classifier/web_train_file_dnn'\n",
    "data_path = 'data/trainSet/classifier/web_train_info.csv'\n",
    "word_dict_path = 'data/trainSet/classifier/dictionary.dic'\n",
    "cls_dict_path = 'data/trainSet/classifier/web_cls.dic'"
   ]
  },
  {
   "cell_type": "code",
   "execution_count": 3,
   "metadata": {},
   "outputs": [],
   "source": [
    "all_data = gtf.load_data(data_path)\n",
    "word_dict = gtf.load_dict(word_dict_path)\n",
    "cls_dict = gtf.load_cls_dict(cls_dict_path)"
   ]
  },
  {
   "cell_type": "code",
   "execution_count": null,
   "metadata": {},
   "outputs": [],
   "source": [
    "for _,group in all_data.groupby('cls'):\n",
    "    print(_, len(group))\n",
    "    for _, g in group.groupby('train_val_test'):\n",
    "        print(_, len(g))"
   ]
  },
  {
   "cell_type": "code",
   "execution_count": null,
   "metadata": {},
   "outputs": [],
   "source": [
    "gtf.gen_train_file(all_data, word_dict, cls_dict, out_path, is_cls=[])"
   ]
  },
  {
   "cell_type": "code",
   "execution_count": null,
   "metadata": {},
   "outputs": [],
   "source": []
  },
  {
   "cell_type": "markdown",
   "metadata": {},
   "source": [
    "#lda_att train file"
   ]
  },
  {
   "cell_type": "code",
   "execution_count": 1,
   "metadata": {},
   "outputs": [],
   "source": [
    "import TextClassifier.gen_train_file_lda_att as gtfla"
   ]
  },
  {
   "cell_type": "code",
   "execution_count": 2,
   "metadata": {},
   "outputs": [],
   "source": [
    "out_path = 'data/trainSet/classifier/web_train_file_lda_att'\n",
    "data_path = 'data/trainSet/classifier/web_train_info.csv'\n",
    "word_dict_path = 'data/trainSet/classifier/dictionary.dic'\n",
    "cls_dict_path = 'data/trainSet/classifier/web_cls.dic'\n",
    "lda_model_path = 'data/trainSet/classifier/lda/'"
   ]
  },
  {
   "cell_type": "code",
   "execution_count": 3,
   "metadata": {},
   "outputs": [],
   "source": [
    "all_data = gtfla.load_data(data_path)\n",
    "word_dict = gtfla.load_dict(word_dict_path)\n",
    "cls_dict = gtfla.load_cls_dict(cls_dict_path)"
   ]
  },
  {
   "cell_type": "code",
   "execution_count": 4,
   "metadata": {},
   "outputs": [
    {
     "name": "stdout",
     "output_type": "stream",
     "text": [
      "1\n",
      "2\n",
      "3\n",
      "finish!\n"
     ]
    }
   ],
   "source": [
    "gtfla.gen_train_file(all_data, word_dict, cls_dict, lda_model_path, out_path)"
   ]
  },
  {
   "cell_type": "code",
   "execution_count": null,
   "metadata": {},
   "outputs": [],
   "source": []
  },
  {
   "cell_type": "code",
   "execution_count": null,
   "metadata": {},
   "outputs": [],
   "source": [
    "import pickle\n",
    "from collections import Counter\n",
    "\n",
    "with open('data/trainSet/classifier/cls_5w.dic', 'rb') as fp:\n",
    "    cls = pickle.load(fp)\n",
    "cls"
   ]
  },
  {
   "cell_type": "code",
   "execution_count": null,
   "metadata": {},
   "outputs": [],
   "source": [
    "import pickle\n",
    "\n",
    "with open('data/trainSet/classifier/web_train_file_lda_att/train.pkl', 'rb') as fp:\n",
    "    data = pickle.load(fp)"
   ]
  },
  {
   "cell_type": "code",
   "execution_count": 7,
   "metadata": {},
   "outputs": [
    {
     "name": "stdout",
     "output_type": "stream",
     "text": [
      "[29708, 19675, 68075, 64266, 74706, 0, 13905, 0, 72166, 0, 68075, 0, 23927, 37058, 0, 0, 19703, 1745, 38964, 1653, 52547, 57056, 53527, 46370, 29708, 19675, 68075, 13476, 1405, 39803, 46370, 29708, 19675, 68075, 74706, 53527, 23927, 31209, 15574, 29708, 19675, 64946, 0, 57056, 53527, 687, 23927, 48066, 71780, 5694, 68075, 49895, 33554, 33708, 66444, 26767, 47828, 17427, 38251, 10009, 5107, 73217, 0, 19703, 1405, 68075, 10009, 79992, 1405, 13905, 0, 29708, 19675, 68075, 64946, 0, 0, 29708, 68075, 64946, 0, 32722, 23956, 66641, 0, 55258, 57056, 29977, 31422, 66285, 22429, 23927, 0, 13918, 53527, 29977, 28498, 14532, 53527, 0, 687, 23927, 6665]\n",
      "[(0, 0.3376241), (2, 0.025751613), (4, 0.036016636), (5, 0.010090708), (10, 0.039809182), (12, 0.107204646), (17, 0.06481117), (18, 0.022596048), (21, 0.059349958), (27, 0.022368845), (31, 0.11306071), (32, 0.061227493), (35, 0.011172091), (36, 0.018213347), (39, 0.055036705)]\n",
      "0\n"
     ]
    }
   ],
   "source": [
    "print(data['X'][0])\n",
    "print(data['X_LDA'][0])\n",
    "print(data['Y'][0])"
   ]
  },
  {
   "cell_type": "code",
   "execution_count": null,
   "metadata": {},
   "outputs": [],
   "source": []
  },
  {
   "cell_type": "code",
   "execution_count": 1,
   "metadata": {},
   "outputs": [],
   "source": [
    "import pickle\n",
    "with open('data/trainSet/classifier/train_file_5w_1/train.pkl', 'rb') as fp:\n",
    "    data=pickle.load(fp)"
   ]
  },
  {
   "cell_type": "code",
   "execution_count": 2,
   "metadata": {},
   "outputs": [
    {
     "name": "stdout",
     "output_type": "stream",
     "text": [
      "9299 40000\n",
      "9012 200000\n",
      "9461 120000\n",
      "9542 40000\n",
      "9047 80000\n",
      "9483 40000\n",
      "9001 70000\n",
      "9130 200000\n",
      "9771 40000\n",
      "9705 200000\n"
     ]
    }
   ],
   "source": [
    "for cls, d in data.items():\n",
    "    print(cls, len(d['X']))"
   ]
  },
  {
   "cell_type": "code",
   "execution_count": null,
   "metadata": {},
   "outputs": [],
   "source": [
    "import pickle\n",
    "with open('data/trainSet/classifier/train_file_5w/train.pkl', 'rb') as fp:\n",
    "    data=pickle.load(fp)\n",
    "print(len(data['X']))"
   ]
  },
  {
   "cell_type": "code",
   "execution_count": null,
   "metadata": {},
   "outputs": [],
   "source": []
  }
 ],
 "metadata": {
  "kernelspec": {
   "display_name": "Python 3",
   "language": "python",
   "name": "python3"
  },
  "language_info": {
   "codemirror_mode": {
    "name": "ipython",
    "version": 3
   },
   "file_extension": ".py",
   "mimetype": "text/x-python",
   "name": "python",
   "nbconvert_exporter": "python",
   "pygments_lexer": "ipython3",
   "version": "3.5.2"
  }
 },
 "nbformat": 4,
 "nbformat_minor": 2
}
