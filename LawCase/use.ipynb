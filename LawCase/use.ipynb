{
 "cells": [
  {
   "cell_type": "code",
   "execution_count": 1,
   "metadata": {},
   "outputs": [],
   "source": [
    "token = '经审理查明，2015年2月23日15时许，原告与其父母到被告在岑溪市商贸城后街经营的上下九饮食店吃粉消费。在原告吃粉过程中，被告的工作人员姚小梅为给热汤的煤炉换煤，把装有热汤水的汤锅放在煤炉旁边之后，原告跌落该汤锅。造成了原告被汤水烫伤。后原告父母和被告把原告送到岑溪市人民医院治疗。医院诊断为四肢、胸腹部、背臂部及会阴沸水烫伤，用去医疗费人民币354元。后因原告方要求转上级医院治疗，于2015年2月24日1时38分原告转至梧州市××十字会医院住院治疗，医院诊断为全身多处热液烫伤，并用去医疗费人民币30939．2元。2015年2月23日被告方分两次共支付3783元给原告冯伟源，2015年3月26日被告方又支付5000元给原告蔡静娟。 另查明，被告的涉事煤炉设置在饮食店门口位置，距离原告的座位大约30cm。原告至本案开庭审理时未痊愈出院，还在梧州市××十字会医院住院治疗。'\n"
   ]
  },
  {
   "cell_type": "code",
   "execution_count": 2,
   "metadata": {},
   "outputs": [
    {
     "name": "stderr",
     "output_type": "stream",
     "text": [
      "Using TensorFlow backend.\n"
     ]
    },
    {
     "name": "stdout",
     "output_type": "stream",
     "text": [
      "CRPM load finished!\n",
      "SCPMS 9001 load finished!\n",
      "SCPMS 9012 load finished!\n",
      "SCPMS 9047 load finished!\n",
      "SCPMS 9130 load finished!\n",
      "SCPMS 9299 load finished!\n",
      "SCPMS 9461 load finished!\n",
      "SCPMS 9483 load finished!\n",
      "SCPMS 9542 load finished!\n",
      "SCPMS 9705 load finished!\n",
      "SCPMS 9771 load finished!\n",
      "SCPMS load finished!\n"
     ]
    }
   ],
   "source": [
    "from use import CaseStatutesRecommend"
   ]
  },
  {
   "cell_type": "code",
   "execution_count": 3,
   "metadata": {},
   "outputs": [
    {
     "name": "stderr",
     "output_type": "stream",
     "text": [
      "Building prefix dict from the default dictionary ...\n",
      "Loading model from cache /tmp/jieba.cache\n",
      "Loading model cost 0.885 seconds.\n",
      "Prefix dict has been built succesfully.\n"
     ]
    },
    {
     "name": "stdout",
     "output_type": "stream",
     "text": [
      "9012\n",
      "[0.30369583, 0.30360672, 0.30378446, 0.30374324, 0.30378395, 0.3037332, 0.30361813, 0.30368802, 0.30370173]\n",
      "[{'id': '5a321a240e2c810b3cd2757e', 'ref': ['《中华人民共和国婚姻法》 第三十二条'], 's1': 1.0, 'sim': 0.650938981771469, 's2': 0.5013414}, {'id': '5a35598a0e2c815b20b186d1', 'ref': ['《中华人民共和国婚姻法》 第二十条', '《中华人民共和国民事诉讼法》 第一百四十四条'], 's1': 0.9210434018995, 'sim': 0.27631302056984997, 's2': 0.0}, {'id': '5a3337200e2c810b3ccf02a4', 'ref': ['《中华人民共和国婚姻法》 第三十二条'], 's1': 0.7778719037359493, 'sim': 0.9333615711207848, 's2': 1.0}, {'id': '5a33634a0e2c810b3cf75250', 'ref': ['《中华人民共和国婚姻法》 第七条', '《中华人民共和国婚姻法》 第十条', '《最高人民法院关于适用﹤中华人民共和国婚姻法﹥若干问题的解释（一）》 第九条'], 's1': 0.6936963307462048, 'sim': 0.7457849653840635, 's2': 0.76810867}, {'id': '5a3610e50e2c815b2052c4c5', 'ref': ['《中华人民共和国民法通则》 第十三条', '《中华人民共和国民法通则》 第十七条'], 's1': 0.674616915506195, 'sim': 0.9003897853261443, 's2': 0.9971496}, {'id': '5a3340ae0e2c810b3cd79802', 'ref': ['《中华人民共和国婚姻法》 第三十二条'], 's1': 0.667082456988675, 'sim': 0.6982467854745932, 's2': 0.7116029}, {'id': '5a32f8a50e2c810b3c98279b', 'ref': ['《中华人民共和国婚姻法》 第三十二条', '《中华人民共和国民事诉讼法》 第六十四条'], 's1': 0.6573925878593148, 'sim': 0.24217082980241836, 's2': 0.06421865}, {'id': '5a3485a60e2c810b3cf8526d', 'ref': ['《中华人民共和国婚姻法》 第三十二条', '《中华人民共和国民事诉讼法》 第六十四条'], 's1': 0.6400899373870237, 'sim': 0.5122147793585402, 's2': 0.45741114}, {'id': '5a35a2570e2c815b20f1d2d7', 'ref': ['《中华人民共和国婚姻法》 第二十条', '《中华人民共和国婚姻法》 第三十二条', '《中华人民共和国婚姻法》 第三十七条', '《中华人民共和国婚姻法》 第四十二条'], 's1': 0.6082160134707517, 'sim': 0.5566432195781059, 's2': 0.5345406}]\n",
      "['5a3337200e2c810b3ccf02a4', '5a3610e50e2c815b2052c4c5', '5a33634a0e2c810b3cf75250', '5a3340ae0e2c810b3cd79802', '5a321a240e2c810b3cd2757e', '5a35a2570e2c815b20f1d2d7', '5a3485a60e2c810b3cf8526d', '5a35598a0e2c815b20b186d1', '5a32f8a50e2c810b3c98279b'] [['《中华人民共和国婚姻法》 第三十二条', 2], ['《中华人民共和国婚姻法》 第七条', 1], ['《中华人民共和国民法通则》 第十七条', 1], ['《中华人民共和国婚姻法》 第十条', 1], ['《中华人民共和国民法通则》 第十三条', 1], ['《最高人民法院关于适用﹤中华人民共和国婚姻法﹥若干问题的解释（一）》 第九条', 1]]\n"
     ]
    }
   ],
   "source": [
    "inputs = [token]\n",
    "c = CaseStatutesRecommend()\n",
    "c.recommend(inputs)"
   ]
  },
  {
   "cell_type": "code",
   "execution_count": null,
   "metadata": {},
   "outputs": [],
   "source": []
  }
 ],
 "metadata": {
  "kernelspec": {
   "display_name": "Python 3",
   "language": "python",
   "name": "python3"
  },
  "language_info": {
   "codemirror_mode": {
    "name": "ipython",
    "version": 3
   },
   "file_extension": ".py",
   "mimetype": "text/x-python",
   "name": "python",
   "nbconvert_exporter": "python",
   "pygments_lexer": "ipython3",
   "version": "3.5.2"
  }
 },
 "nbformat": 4,
 "nbformat_minor": 2
}
