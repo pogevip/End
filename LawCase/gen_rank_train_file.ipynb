{
 "cells": [
  {
   "cell_type": "code",
   "execution_count": null,
   "metadata": {},
   "outputs": [],
   "source": [
    "from Rank.gen_train_file import gen_train_data, write_to_file, load_data, load_dict\n",
    "import os\n",
    "import pandas as pd"
   ]
  },
  {
   "cell_type": "code",
   "execution_count": null,
   "metadata": {},
   "outputs": [],
   "source": [
    "word_dic_dir = 'data/trainSet/rank/dict/'\n",
    "info_data_dir = 'data/trainSet/rank/web_each_cls_data/'\n",
    "rank_data_dir = 'data/trainSet/rank/web_search_res_std/'\n",
    "\n",
    "out_dir = 'data/trainSet/rank/web_train_file/'"
   ]
  },
  {
   "cell_type": "code",
   "execution_count": null,
   "metadata": {},
   "outputs": [],
   "source": [
    "CLS = ['9001', '9012', '9047', '9130', '9299',\n",
    "       '9461', '9483', '9542', '9705', '9771']"
   ]
  },
  {
   "cell_type": "markdown",
   "metadata": {},
   "source": [
    "##分类训练集"
   ]
  },
  {
   "cell_type": "code",
   "execution_count": null,
   "metadata": {},
   "outputs": [],
   "source": [
    "for cls in CLS:\n",
    "    print('-----'+cls+'-----')\n",
    "    word_dic = load_dict(os.path.join(word_dic_dir, cls+'_dictionary.dic'))\n",
    "    data = gen_train_data(rank_data_path=os.path.join(rank_data_dir, cls + '.csv'),\n",
    "                          info_data_path=os.path.join(info_data_dir, cls + '.csv'),\n",
    "                          word_dic=word_dic)\n",
    "    write_to_file(data, out_dir+cls+'/')"
   ]
  },
  {
   "cell_type": "markdown",
   "metadata": {},
   "source": [
    "##整体训练"
   ]
  },
  {
   "cell_type": "code",
   "execution_count": null,
   "metadata": {},
   "outputs": [],
   "source": [
    "word_dic = load_dict(os.path.join(word_dic_dir, 'all_dictionary.dic'))\n",
    "for cls in CLS:\n",
    "    print('-----'+cls+'-----')\n",
    "    data = gen_train_data(rank_data_path=os.path.join(rank_data_dir, cls + '.csv'),\n",
    "                          info_data_path=os.path.join(info_data_dir, cls + '.csv'),\n",
    "                          word_dic=word_dic)\n",
    "    data.to_csv(out_dir+'all/tmp/'+cls+'.csv', index=0)\n",
    "    \n",
    "print('finish!')"
   ]
  },
  {
   "cell_type": "code",
   "execution_count": null,
   "metadata": {},
   "outputs": [],
   "source": [
    "for cls in CLS:\n",
    "    print('-----'+cls+'-----')\n",
    "    data = pd.read_csv(out_dir+'tmp/'+cls+'.csv')\n",
    "    data = data.loc[:, ['X1', 'X2', 'statute_sim', 'train_val_test']]\n",
    "    data['X1'] = data['X1'].apply(lambda x: ','.join(x.split('--')[:200]))\n",
    "    data['X2'] = data['X2'].apply(lambda x: ','.join(x.split('--')[:200]))\n",
    "    data.to_csv(out_dir+'tmp/'+cls+'_200.csv', index=0)\n",
    "print('finish!')"
   ]
  },
  {
   "cell_type": "code",
   "execution_count": null,
   "metadata": {},
   "outputs": [],
   "source": [
    "res = []\n",
    "for cls in CLS:\n",
    "    print('-----'+cls+'-----')\n",
    "    data = pd.read_csv(out_dir+'tmp/'+cls+'_200.csv')\n",
    "    res.append(data)\n",
    "\n",
    "data = pd.concat(res, ignore_index=True)\n",
    "write_to_file(data, out_dir + 'all/')"
   ]
  },
  {
   "cell_type": "code",
   "execution_count": null,
   "metadata": {},
   "outputs": [],
   "source": [
    "for cls in CLS:\n",
    "    print('-----'+cls+'-----')\n",
    "    data = pd.read_csv(out_dir+'tmp/'+cls+'.csv')\n",
    "    data = data.loc[:, ['X1', 'X2', 'statute_sim', 'train_val_test']]\n",
    "    data.to_csv(out_dir+'tmp/'+cls+'.csv', index = 0)"
   ]
  },
  {
   "cell_type": "code",
   "execution_count": null,
   "metadata": {},
   "outputs": [],
   "source": [
    "for cls in CLS:\n",
    "    print('-----'+cls+'-----')\n",
    "    data = pd.read_csv(out_dir+'tmp/'+cls+'.csv')\n",
    "    data = data.loc[:, ['X1', 'X2', 'statute_sim', 'train_val_test']]\n",
    "    data.to_csv(out_dir+'tmp/'+cls+'.csv', index = 0)"
   ]
  },
  {
   "cell_type": "code",
   "execution_count": null,
   "metadata": {},
   "outputs": [],
   "source": [
    "import pickle\n",
    "with open(out_dir+'9771/train.pkl', 'rb') as fp:\n",
    "    train = pickle.load(fp)\n",
    "len(train['X1'])"
   ]
  },
  {
   "cell_type": "code",
   "execution_count": null,
   "metadata": {},
   "outputs": [],
   "source": [
    "train['X1'][0]"
   ]
  },
  {
   "cell_type": "code",
   "execution_count": null,
   "metadata": {},
   "outputs": [],
   "source": []
  },
  {
   "cell_type": "code",
   "execution_count": null,
   "metadata": {},
   "outputs": [],
   "source": [
    "import pickle\n",
    "out_dir = 'data/trainSet/rank/web_train_file/'\n",
    "with open(out_dir+'9001/train.pkl', 'rb') as fp:\n",
    "    train = pickle.load(fp)\n",
    "len(train['Y'])"
   ]
  },
  {
   "cell_type": "code",
   "execution_count": null,
   "metadata": {},
   "outputs": [],
   "source": [
    "train['X1'][1]"
   ]
  },
  {
   "cell_type": "code",
   "execution_count": null,
   "metadata": {},
   "outputs": [],
   "source": [
    "print('finish!')"
   ]
  },
  {
   "cell_type": "code",
   "execution_count": null,
   "metadata": {},
   "outputs": [],
   "source": []
  }
 ],
 "metadata": {
  "kernelspec": {
   "display_name": "Python 3",
   "language": "python",
   "name": "python3"
  },
  "language_info": {
   "codemirror_mode": {
    "name": "ipython",
    "version": 3
   },
   "file_extension": ".py",
   "mimetype": "text/x-python",
   "name": "python",
   "nbconvert_exporter": "python",
   "pygments_lexer": "ipython3",
   "version": "3.5.2"
  }
 },
 "nbformat": 4,
 "nbformat_minor": 2
}
