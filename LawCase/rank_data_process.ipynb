{
 "cells": [
  {
   "cell_type": "code",
   "execution_count": 1,
   "metadata": {},
   "outputs": [],
   "source": [
    "from Rank.compute_sim import com_sim\n",
    "import os"
   ]
  },
  {
   "cell_type": "code",
   "execution_count": null,
   "metadata": {},
   "outputs": [],
   "source": [
    "rank_data_dir = 'data/trainSet/rank/search_res_web/'\n",
    "info_data_dir = 'data/trainSet/rank/each_cls_data_web/'\n",
    "statutes_weight_dir = 'data/trainSet/rank/statute_weight/'\n",
    "out_data_dir = 'data/trainSet/rank/search_res_std_web/'\n",
    "\n",
    "if not os.path.exists(out_data_dir):\n",
    "    os.makedirs(out_data_dir)\n",
    "\n",
    "# CLS = ['9001', '9012', '9047', '9130', '9299',\n",
    "#     '9461', '9483', '9542', '9705', '9771']\n",
    "\n",
    "for cls in CLS:\n",
    "    print('------' + cls + '------')\n",
    "    com_sim(rank_data_path=os.path.join(rank_data_dir, cls+'.csv'),\n",
    "            info_data_path=os.path.join(info_data_dir, cls+'.csv'),\n",
    "            statutes_weight_path=os.path.join(statutes_weight_dir, cls+'_weight.pkl'),\n",
    "            out_path=os.path.join(out_data_dir, cls+'.csv'),)"
   ]
  },
  {
   "cell_type": "code",
   "execution_count": null,
   "metadata": {},
   "outputs": [],
   "source": []
  }
 ],
 "metadata": {
  "kernelspec": {
   "display_name": "Python 3",
   "language": "python",
   "name": "python3"
  },
  "language_info": {
   "codemirror_mode": {
    "name": "ipython",
    "version": 3
   },
   "file_extension": ".py",
   "mimetype": "text/x-python",
   "name": "python",
   "nbconvert_exporter": "python",
   "pygments_lexer": "ipython3",
   "version": "3.5.2"
  }
 },
 "nbformat": 4,
 "nbformat_minor": 2
}
